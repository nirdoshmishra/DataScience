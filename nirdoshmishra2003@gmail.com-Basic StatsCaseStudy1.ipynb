{
 "cells": [
  {
   "cell_type": "code",
   "execution_count": 1,
   "metadata": {},
   "outputs": [],
   "source": [
    "import pandas as pd\n",
    "import scipy.stats as stats\n",
    "import numpy as np\n",
    "import matplotlib as plt\n",
    "import math"
   ]
  },
  {
   "cell_type": "markdown",
   "metadata": {},
   "source": [
    "# Case Study 1:\n",
    "    "
   ]
  },
  {
   "cell_type": "markdown",
   "metadata": {},
   "source": [
    "A physician is evaluating a new diet for her patients with a family history of heart disease. To test the effectiveness of this diet, 16 patients are placed on the diet for 6 months. Their weights and triglyceride levels are measured before and after the study, and the physician wants to know if either set of measurements has changed. (Data set: dietstudy.csv) "
   ]
  },
  {
   "cell_type": "code",
   "execution_count": 6,
   "metadata": {},
   "outputs": [],
   "source": [
    "diet_study = pd.read_csv(\"E:\\\\DataScienceWithPython\\\\Python Assignments Code\\\\7.BasicStatsCaseStudy-1\\\\dietstudy.csv\")"
   ]
  },
  {
   "cell_type": "code",
   "execution_count": 7,
   "metadata": {},
   "outputs": [
    {
     "data": {
      "text/html": [
       "<div>\n",
       "<style scoped>\n",
       "    .dataframe tbody tr th:only-of-type {\n",
       "        vertical-align: middle;\n",
       "    }\n",
       "\n",
       "    .dataframe tbody tr th {\n",
       "        vertical-align: top;\n",
       "    }\n",
       "\n",
       "    .dataframe thead th {\n",
       "        text-align: right;\n",
       "    }\n",
       "</style>\n",
       "<table border=\"1\" class=\"dataframe\">\n",
       "  <thead>\n",
       "    <tr style=\"text-align: right;\">\n",
       "      <th></th>\n",
       "      <th>patid</th>\n",
       "      <th>age</th>\n",
       "      <th>gender</th>\n",
       "      <th>tg0</th>\n",
       "      <th>tg1</th>\n",
       "      <th>tg2</th>\n",
       "      <th>tg3</th>\n",
       "      <th>tg4</th>\n",
       "      <th>wgt0</th>\n",
       "      <th>wgt1</th>\n",
       "      <th>wgt2</th>\n",
       "      <th>wgt3</th>\n",
       "      <th>wgt4</th>\n",
       "    </tr>\n",
       "  </thead>\n",
       "  <tbody>\n",
       "    <tr>\n",
       "      <th>0</th>\n",
       "      <td>1</td>\n",
       "      <td>45</td>\n",
       "      <td>Male</td>\n",
       "      <td>180</td>\n",
       "      <td>148</td>\n",
       "      <td>106</td>\n",
       "      <td>113</td>\n",
       "      <td>100</td>\n",
       "      <td>198</td>\n",
       "      <td>196</td>\n",
       "      <td>193</td>\n",
       "      <td>188</td>\n",
       "      <td>192</td>\n",
       "    </tr>\n",
       "    <tr>\n",
       "      <th>1</th>\n",
       "      <td>2</td>\n",
       "      <td>56</td>\n",
       "      <td>Male</td>\n",
       "      <td>139</td>\n",
       "      <td>94</td>\n",
       "      <td>119</td>\n",
       "      <td>75</td>\n",
       "      <td>92</td>\n",
       "      <td>237</td>\n",
       "      <td>233</td>\n",
       "      <td>232</td>\n",
       "      <td>228</td>\n",
       "      <td>225</td>\n",
       "    </tr>\n",
       "    <tr>\n",
       "      <th>2</th>\n",
       "      <td>3</td>\n",
       "      <td>50</td>\n",
       "      <td>Male</td>\n",
       "      <td>152</td>\n",
       "      <td>185</td>\n",
       "      <td>86</td>\n",
       "      <td>149</td>\n",
       "      <td>118</td>\n",
       "      <td>233</td>\n",
       "      <td>231</td>\n",
       "      <td>229</td>\n",
       "      <td>228</td>\n",
       "      <td>226</td>\n",
       "    </tr>\n",
       "    <tr>\n",
       "      <th>3</th>\n",
       "      <td>4</td>\n",
       "      <td>46</td>\n",
       "      <td>Female</td>\n",
       "      <td>112</td>\n",
       "      <td>145</td>\n",
       "      <td>136</td>\n",
       "      <td>149</td>\n",
       "      <td>82</td>\n",
       "      <td>179</td>\n",
       "      <td>181</td>\n",
       "      <td>177</td>\n",
       "      <td>174</td>\n",
       "      <td>172</td>\n",
       "    </tr>\n",
       "    <tr>\n",
       "      <th>4</th>\n",
       "      <td>5</td>\n",
       "      <td>64</td>\n",
       "      <td>Male</td>\n",
       "      <td>156</td>\n",
       "      <td>104</td>\n",
       "      <td>157</td>\n",
       "      <td>79</td>\n",
       "      <td>97</td>\n",
       "      <td>219</td>\n",
       "      <td>217</td>\n",
       "      <td>215</td>\n",
       "      <td>213</td>\n",
       "      <td>214</td>\n",
       "    </tr>\n",
       "  </tbody>\n",
       "</table>\n",
       "</div>"
      ],
      "text/plain": [
       "   patid  age  gender  tg0  tg1  tg2  tg3  tg4  wgt0  wgt1  wgt2  wgt3  wgt4\n",
       "0      1   45    Male  180  148  106  113  100   198   196   193   188   192\n",
       "1      2   56    Male  139   94  119   75   92   237   233   232   228   225\n",
       "2      3   50    Male  152  185   86  149  118   233   231   229   228   226\n",
       "3      4   46  Female  112  145  136  149   82   179   181   177   174   172\n",
       "4      5   64    Male  156  104  157   79   97   219   217   215   213   214"
      ]
     },
     "execution_count": 7,
     "metadata": {},
     "output_type": "execute_result"
    }
   ],
   "source": [
    "diet_study.head(5)"
   ]
  },
  {
   "cell_type": "code",
   "execution_count": 8,
   "metadata": {},
   "outputs": [
    {
     "data": {
      "text/plain": [
       "Ttest_relResult(statistic=1.2000008533342437, pvalue=0.24874946576903698)"
      ]
     },
     "execution_count": 8,
     "metadata": {},
     "output_type": "execute_result"
    }
   ],
   "source": [
    "stats.ttest_rel(diet_study.tg0,diet_study.tg4)"
   ]
  },
  {
   "cell_type": "code",
   "execution_count": 9,
   "metadata": {},
   "outputs": [
    {
     "data": {
      "text/plain": [
       "Ttest_relResult(statistic=11.174521688532522, pvalue=1.137689414996614e-08)"
      ]
     },
     "execution_count": 9,
     "metadata": {},
     "output_type": "execute_result"
    }
   ],
   "source": [
    "stats.ttest_rel(diet_study.wgt0,diet_study.wgt4)"
   ]
  },
  {
   "cell_type": "markdown",
   "metadata": {},
   "source": [
    "Conclusion:\n",
    "    For Triglyceride, Since P value > Significance value(5%). Accept the Null. \n",
    "    Therefore no change in Triglyceride.\n",
    "    For Weight, P value < Significance value(5%) Reject the Null and statistics value is Negative, it means it is Left tailed test. \n",
    "    Set of Weight measures are Decreased. \n",
    "    "
   ]
  },
  {
   "cell_type": "markdown",
   "metadata": {},
   "source": [
    "# Case Study 2:"
   ]
  },
  {
   "cell_type": "markdown",
   "metadata": {},
   "source": [
    "An analyst at a department store wants to evaluate a recent credit card promotion. To this end, 500 cardholders were randomly selected. Half received an ad promoting a reduced interest rate on purchases made over the next three months, and half received a standard seasonal ad. Is the promotion effective to increase sales? (Data set: creditpromo.csv) "
   ]
  },
  {
   "cell_type": "code",
   "execution_count": 11,
   "metadata": {},
   "outputs": [],
   "source": [
    "credit_promo = pd.read_csv(\"E:\\\\DataScienceWithPython\\\\Python Assignments Code\\\\7.BasicStatsCaseStudy-1\\\\creditpromo.csv\")"
   ]
  },
  {
   "cell_type": "code",
   "execution_count": 12,
   "metadata": {},
   "outputs": [
    {
     "data": {
      "text/html": [
       "<div>\n",
       "<style scoped>\n",
       "    .dataframe tbody tr th:only-of-type {\n",
       "        vertical-align: middle;\n",
       "    }\n",
       "\n",
       "    .dataframe tbody tr th {\n",
       "        vertical-align: top;\n",
       "    }\n",
       "\n",
       "    .dataframe thead th {\n",
       "        text-align: right;\n",
       "    }\n",
       "</style>\n",
       "<table border=\"1\" class=\"dataframe\">\n",
       "  <thead>\n",
       "    <tr style=\"text-align: right;\">\n",
       "      <th></th>\n",
       "      <th>id</th>\n",
       "      <th>insert</th>\n",
       "      <th>dollars</th>\n",
       "    </tr>\n",
       "  </thead>\n",
       "  <tbody>\n",
       "    <tr>\n",
       "      <th>0</th>\n",
       "      <td>148</td>\n",
       "      <td>Standard</td>\n",
       "      <td>2232.771979</td>\n",
       "    </tr>\n",
       "    <tr>\n",
       "      <th>1</th>\n",
       "      <td>572</td>\n",
       "      <td>New Promotion</td>\n",
       "      <td>1403.807542</td>\n",
       "    </tr>\n",
       "    <tr>\n",
       "      <th>2</th>\n",
       "      <td>973</td>\n",
       "      <td>Standard</td>\n",
       "      <td>2327.092181</td>\n",
       "    </tr>\n",
       "    <tr>\n",
       "      <th>3</th>\n",
       "      <td>1096</td>\n",
       "      <td>Standard</td>\n",
       "      <td>1280.030541</td>\n",
       "    </tr>\n",
       "    <tr>\n",
       "      <th>4</th>\n",
       "      <td>1541</td>\n",
       "      <td>New Promotion</td>\n",
       "      <td>1513.563200</td>\n",
       "    </tr>\n",
       "  </tbody>\n",
       "</table>\n",
       "</div>"
      ],
      "text/plain": [
       "     id         insert      dollars\n",
       "0   148       Standard  2232.771979\n",
       "1   572  New Promotion  1403.807542\n",
       "2   973       Standard  2327.092181\n",
       "3  1096       Standard  1280.030541\n",
       "4  1541  New Promotion  1513.563200"
      ]
     },
     "execution_count": 12,
     "metadata": {},
     "output_type": "execute_result"
    }
   ],
   "source": [
    "credit_promo.head(5)"
   ]
  },
  {
   "cell_type": "code",
   "execution_count": 21,
   "metadata": {},
   "outputs": [],
   "source": [
    "std_promo = credit_promo.dollars[credit_promo['insert'] =='Standard']\n",
    "new_promo = credit_promo.dollars[credit_promo['insert'] =='New Promotion']"
   ]
  },
  {
   "cell_type": "code",
   "execution_count": 22,
   "metadata": {},
   "outputs": [
    {
     "data": {
      "text/plain": [
       "Ttest_indResult(statistic=-2.260422726464996, pvalue=0.024226348191648994)"
      ]
     },
     "execution_count": 22,
     "metadata": {},
     "output_type": "execute_result"
    }
   ],
   "source": [
    "stats.ttest_ind(std_promo, new_promo, equal_var = False)"
   ]
  },
  {
   "cell_type": "markdown",
   "metadata": {},
   "source": [
    "Conslusion:\n",
    "    Since p-value < significant value(5%) so reject the null and stats value is -ve means left tailed test.\n",
    "    So New Promotion was effective as sales is increased for New promotion customers."
   ]
  },
  {
   "cell_type": "markdown",
   "metadata": {},
   "source": [
    "# Case Study 3:"
   ]
  },
  {
   "cell_type": "markdown",
   "metadata": {},
   "source": [
    "An experiment is conducted to study the hybrid seed production of bottle gourd under open field conditions. The main aim of the investigation is to compare natural pollination and hand pollination. The data are collected on 10 randomly selected plants from each of natural pollination and hand pollination. \n",
    "The data are collected on fruit weight (kg), seed yield/plant (g) and seedling length (cm). (Data set: pollination.csv) \n",
    "    a. Is the overall population of Seed yield/plant (g) equals to 200? \n",
    "    b. Test whether the natural pollination and hand pollination under open field conditions are equally effective or are significantly different."
   ]
  },
  {
   "cell_type": "code",
   "execution_count": 29,
   "metadata": {},
   "outputs": [],
   "source": [
    "pollination = pd.read_csv(\"E:\\\\DataScienceWithPython\\\\Python Assignments Code\\\\7.BasicStatsCaseStudy-1\\\\pollination.csv\")"
   ]
  },
  {
   "cell_type": "code",
   "execution_count": 24,
   "metadata": {},
   "outputs": [
    {
     "data": {
      "text/html": [
       "<div>\n",
       "<style scoped>\n",
       "    .dataframe tbody tr th:only-of-type {\n",
       "        vertical-align: middle;\n",
       "    }\n",
       "\n",
       "    .dataframe tbody tr th {\n",
       "        vertical-align: top;\n",
       "    }\n",
       "\n",
       "    .dataframe thead th {\n",
       "        text-align: right;\n",
       "    }\n",
       "</style>\n",
       "<table border=\"1\" class=\"dataframe\">\n",
       "  <thead>\n",
       "    <tr style=\"text-align: right;\">\n",
       "      <th></th>\n",
       "      <th>Group</th>\n",
       "      <th>Fruit_Wt</th>\n",
       "      <th>Seed_Yield_Plant</th>\n",
       "      <th>Seedling_length</th>\n",
       "    </tr>\n",
       "  </thead>\n",
       "  <tbody>\n",
       "    <tr>\n",
       "      <th>0</th>\n",
       "      <td>Natural</td>\n",
       "      <td>1.85</td>\n",
       "      <td>147.70</td>\n",
       "      <td>16.86</td>\n",
       "    </tr>\n",
       "    <tr>\n",
       "      <th>1</th>\n",
       "      <td>Natural</td>\n",
       "      <td>1.86</td>\n",
       "      <td>136.86</td>\n",
       "      <td>16.77</td>\n",
       "    </tr>\n",
       "    <tr>\n",
       "      <th>2</th>\n",
       "      <td>Natural</td>\n",
       "      <td>1.83</td>\n",
       "      <td>149.97</td>\n",
       "      <td>16.35</td>\n",
       "    </tr>\n",
       "    <tr>\n",
       "      <th>3</th>\n",
       "      <td>Natural</td>\n",
       "      <td>1.89</td>\n",
       "      <td>172.33</td>\n",
       "      <td>18.26</td>\n",
       "    </tr>\n",
       "    <tr>\n",
       "      <th>4</th>\n",
       "      <td>Natural</td>\n",
       "      <td>1.80</td>\n",
       "      <td>144.46</td>\n",
       "      <td>17.90</td>\n",
       "    </tr>\n",
       "  </tbody>\n",
       "</table>\n",
       "</div>"
      ],
      "text/plain": [
       "     Group  Fruit_Wt  Seed_Yield_Plant  Seedling_length\n",
       "0  Natural      1.85            147.70            16.86\n",
       "1  Natural      1.86            136.86            16.77\n",
       "2  Natural      1.83            149.97            16.35\n",
       "3  Natural      1.89            172.33            18.26\n",
       "4  Natural      1.80            144.46            17.90"
      ]
     },
     "execution_count": 24,
     "metadata": {},
     "output_type": "execute_result"
    }
   ],
   "source": [
    "pollination.head(5)"
   ]
  },
  {
   "cell_type": "code",
   "execution_count": 25,
   "metadata": {},
   "outputs": [
    {
     "data": {
      "text/plain": [
       "Ttest_1sampResult(statistic=-2.3009121248548645, pvalue=0.032891040921283025)"
      ]
     },
     "execution_count": 25,
     "metadata": {},
     "output_type": "execute_result"
    }
   ],
   "source": [
    "stats.ttest_1samp(a=pollination.Seed_Yield_Plant, popmean=200)"
   ]
  },
  {
   "cell_type": "code",
   "execution_count": null,
   "metadata": {},
   "outputs": [],
   "source": [
    "Conclusion (a): Single sample t-test\n",
    "    Since p-value < significant value(5%) so Reject the Null and stats value is -ve means left tailed test.\n",
    "    So Overall population of Seed_Yield_Plant is less than 200."
   ]
  },
  {
   "cell_type": "code",
   "execution_count": 28,
   "metadata": {},
   "outputs": [],
   "source": [
    "fruit_wt_N = pollination.Fruit_Wt[pollination['Group']=='Natural']\n",
    "fruit_wt_H = pollination.Fruit_Wt[pollination['Group']=='Hand']"
   ]
  },
  {
   "cell_type": "code",
   "execution_count": 30,
   "metadata": {},
   "outputs": [],
   "source": [
    "seed_plant_N = pollination.Seed_Yield_Plant[pollination['Group']== 'Natural']\n",
    "seed_plant_H = pollination.Seed_Yield_Plant[pollination['Group']== 'Hand']"
   ]
  },
  {
   "cell_type": "code",
   "execution_count": 31,
   "metadata": {},
   "outputs": [],
   "source": [
    "seeding_len_N = pollination.Seedling_length[pollination['Group']== 'Natural']\n",
    "seeding_len_H = pollination.Seedling_length[pollination['Group']== 'Hand']"
   ]
  },
  {
   "cell_type": "code",
   "execution_count": 33,
   "metadata": {},
   "outputs": [
    {
     "data": {
      "text/plain": [
       "Ttest_indResult(statistic=-17.669989614440286, pvalue=4.306871213074868e-09)"
      ]
     },
     "execution_count": 33,
     "metadata": {},
     "output_type": "execute_result"
    }
   ],
   "source": [
    "stats.ttest_ind(a=fruit_wt_N,b=fruit_wt_H, equal_var=False)"
   ]
  },
  {
   "cell_type": "markdown",
   "metadata": {},
   "source": [
    "Result:\n",
    "    Since P-value < significance value(5%), Reject the Null and Stats value is -ve means its Left tail test.\n",
    "    So Fruit  Weight of Natural pollination is less than Hand pollination."
   ]
  },
  {
   "cell_type": "code",
   "execution_count": 34,
   "metadata": {},
   "outputs": [
    {
     "data": {
      "text/plain": [
       "Ttest_indResult(statistic=-13.958260515902547, pvalue=5.136161282685624e-11)"
      ]
     },
     "execution_count": 34,
     "metadata": {},
     "output_type": "execute_result"
    }
   ],
   "source": [
    "stats.ttest_ind(a=seed_plant_N,b=seed_plant_H, equal_var= False)"
   ]
  },
  {
   "cell_type": "markdown",
   "metadata": {},
   "source": [
    "Result:\n",
    "    Since P-value < significance value(5%), Reject the Null and Stats value is -ve means its Left tail test.\n",
    "    So Seed plant of Natural pollination is smaller than Hand pollination."
   ]
  },
  {
   "cell_type": "code",
   "execution_count": 35,
   "metadata": {},
   "outputs": [
    {
     "data": {
      "text/plain": [
       "Ttest_indResult(statistic=-2.542229999657055, pvalue=0.021430608378161634)"
      ]
     },
     "execution_count": 35,
     "metadata": {},
     "output_type": "execute_result"
    }
   ],
   "source": [
    "stats.ttest_ind(a=seeding_len_N, b=seeding_len_H, equal_var = False)"
   ]
  },
  {
   "cell_type": "markdown",
   "metadata": {},
   "source": [
    "Result:\n",
    "    Since P-value < significance value(5%), Reject the Null and Stats value is -ve means its Left tail test.\n",
    "    So Seed length of Natural pollination is lesser than Hand pollination."
   ]
  },
  {
   "cell_type": "markdown",
   "metadata": {},
   "source": [
    "Conclusion (b): 2 sample t-test (unpaired)\n",
    "    Since p-value < significant value(5%) so reject the null and stats value is -ve means left tailed test for all 3 tests.\n",
    "    So Natual pollination is less effective than Hand pollination."
   ]
  },
  {
   "cell_type": "markdown",
   "metadata": {},
   "source": [
    "# Case Study 4:"
   ]
  },
  {
   "cell_type": "markdown",
   "metadata": {},
   "source": [
    "An electronics firm is developing a new DVD player in response to customer requests. Using a prototype, the marketing team has collected focus data for different age groups viz. Under 25; 25-34; 35-44; 45-54; 55-64; 65 and over. Do you think that consumers of various ages rated the design differently? (Data set: dvdplayer.csv)."
   ]
  },
  {
   "cell_type": "code",
   "execution_count": 52,
   "metadata": {},
   "outputs": [],
   "source": [
    "dvd = pd.read_csv(\"E:\\\\DataScienceWithPython\\\\Python Assignments Code\\\\7.BasicStatsCaseStudy-1\\\\dvdplayer.csv\")"
   ]
  },
  {
   "cell_type": "code",
   "execution_count": 55,
   "metadata": {},
   "outputs": [],
   "source": [
    "age_Group1 = dvd.dvdscore[dvd['agegroup']=='Under 25']\n",
    "age_Group2 = dvd.dvdscore[dvd['agegroup']=='25-34']\n",
    "age_Group3 = dvd.dvdscore[dvd['agegroup']=='35-44']\n",
    "age_Group4 = dvd.dvdscore[dvd['agegroup']=='45-54']\n",
    "age_Group5 = dvd.dvdscore[dvd['agegroup']=='55-64']\n",
    "age_Group6 = dvd.dvdscore[dvd['agegroup']=='65 and over']"
   ]
  },
  {
   "cell_type": "code",
   "execution_count": 57,
   "metadata": {},
   "outputs": [
    {
     "data": {
      "text/plain": [
       "F_onewayResult(statistic=6.992526962676518, pvalue=3.087324905679639e-05)"
      ]
     },
     "execution_count": 57,
     "metadata": {},
     "output_type": "execute_result"
    }
   ],
   "source": [
    "stats.f_oneway(age_Group1,age_Group2,age_Group3,age_Group4,age_Group5,age_Group6)"
   ]
  },
  {
   "cell_type": "markdown",
   "metadata": {},
   "source": [
    "Conclusion: ANOVA test as more than 2 means to be validated. \n",
    "    H0: All means are equal\n",
    "    H1: Atleast one mean is different.\n",
    "    Since P-value < significance value(5%), Reject the Null.\n",
    "    Atleast one Age Group rated the design differently."
   ]
  },
  {
   "cell_type": "markdown",
   "metadata": {},
   "source": [
    "# Case Study 5:"
   ]
  },
  {
   "cell_type": "markdown",
   "metadata": {},
   "source": [
    "A survey was conducted among 2800 customers on several demographic characteristics. Working status, sex, age, age-group, race, happiness, no. of child, marital status, educational qualifications, income group etc. had been captured for that purpose. (Data set: sample_survey.csv).  \n",
    "a. Is there any relationship in between labour force status with marital status? b. Do you think educational qualification is somehow controlling the marital status?  c. Is happiness is driven by earnings or marital status?"
   ]
  },
  {
   "cell_type": "code",
   "execution_count": 58,
   "metadata": {},
   "outputs": [],
   "source": [
    "survey = pd.read_csv(\"E:\\\\DataScienceWithPython\\\\Python Assignments Code\\\\7.BasicStatsCaseStudy-1\\\\sample_survey.csv\")"
   ]
  },
  {
   "cell_type": "code",
   "execution_count": 59,
   "metadata": {},
   "outputs": [
    {
     "data": {
      "text/html": [
       "<div>\n",
       "<style scoped>\n",
       "    .dataframe tbody tr th:only-of-type {\n",
       "        vertical-align: middle;\n",
       "    }\n",
       "\n",
       "    .dataframe tbody tr th {\n",
       "        vertical-align: top;\n",
       "    }\n",
       "\n",
       "    .dataframe thead th {\n",
       "        text-align: right;\n",
       "    }\n",
       "</style>\n",
       "<table border=\"1\" class=\"dataframe\">\n",
       "  <thead>\n",
       "    <tr style=\"text-align: right;\">\n",
       "      <th></th>\n",
       "      <th>id</th>\n",
       "      <th>wrkstat</th>\n",
       "      <th>marital</th>\n",
       "      <th>childs</th>\n",
       "      <th>age</th>\n",
       "      <th>educ</th>\n",
       "      <th>paeduc</th>\n",
       "      <th>maeduc</th>\n",
       "      <th>speduc</th>\n",
       "      <th>degree</th>\n",
       "      <th>...</th>\n",
       "      <th>agecat</th>\n",
       "      <th>childcat</th>\n",
       "      <th>news1</th>\n",
       "      <th>news2</th>\n",
       "      <th>news3</th>\n",
       "      <th>news4</th>\n",
       "      <th>news5</th>\n",
       "      <th>car1</th>\n",
       "      <th>car2</th>\n",
       "      <th>car3</th>\n",
       "    </tr>\n",
       "  </thead>\n",
       "  <tbody>\n",
       "    <tr>\n",
       "      <th>0</th>\n",
       "      <td>1</td>\n",
       "      <td>Working full time</td>\n",
       "      <td>Divorced</td>\n",
       "      <td>2.0</td>\n",
       "      <td>60.0</td>\n",
       "      <td>12.0</td>\n",
       "      <td>12.0</td>\n",
       "      <td>12.0</td>\n",
       "      <td>NaN</td>\n",
       "      <td>High school</td>\n",
       "      <td>...</td>\n",
       "      <td>55 to 64</td>\n",
       "      <td>1-2</td>\n",
       "      <td>No</td>\n",
       "      <td>No</td>\n",
       "      <td>No</td>\n",
       "      <td>No</td>\n",
       "      <td>No</td>\n",
       "      <td>American</td>\n",
       "      <td>Japanese</td>\n",
       "      <td>Japanese</td>\n",
       "    </tr>\n",
       "    <tr>\n",
       "      <th>1</th>\n",
       "      <td>2</td>\n",
       "      <td>Working part-time</td>\n",
       "      <td>Never married</td>\n",
       "      <td>0.0</td>\n",
       "      <td>27.0</td>\n",
       "      <td>17.0</td>\n",
       "      <td>20.0</td>\n",
       "      <td>NaN</td>\n",
       "      <td>NaN</td>\n",
       "      <td>Junior college</td>\n",
       "      <td>...</td>\n",
       "      <td>25 to 34</td>\n",
       "      <td>None</td>\n",
       "      <td>No</td>\n",
       "      <td>No</td>\n",
       "      <td>Yes</td>\n",
       "      <td>No</td>\n",
       "      <td>No</td>\n",
       "      <td>American</td>\n",
       "      <td>German</td>\n",
       "      <td>Japanese</td>\n",
       "    </tr>\n",
       "    <tr>\n",
       "      <th>2</th>\n",
       "      <td>3</td>\n",
       "      <td>Working full time</td>\n",
       "      <td>Married</td>\n",
       "      <td>2.0</td>\n",
       "      <td>36.0</td>\n",
       "      <td>12.0</td>\n",
       "      <td>12.0</td>\n",
       "      <td>12.0</td>\n",
       "      <td>16.0</td>\n",
       "      <td>High school</td>\n",
       "      <td>...</td>\n",
       "      <td>35 to 44</td>\n",
       "      <td>1-2</td>\n",
       "      <td>No</td>\n",
       "      <td>No</td>\n",
       "      <td>No</td>\n",
       "      <td>Yes</td>\n",
       "      <td>Yes</td>\n",
       "      <td>American</td>\n",
       "      <td>American</td>\n",
       "      <td>NaN</td>\n",
       "    </tr>\n",
       "    <tr>\n",
       "      <th>3</th>\n",
       "      <td>4</td>\n",
       "      <td>Working full time</td>\n",
       "      <td>Never married</td>\n",
       "      <td>0.0</td>\n",
       "      <td>21.0</td>\n",
       "      <td>13.0</td>\n",
       "      <td>NaN</td>\n",
       "      <td>12.0</td>\n",
       "      <td>NaN</td>\n",
       "      <td>High school</td>\n",
       "      <td>...</td>\n",
       "      <td>Less than 25</td>\n",
       "      <td>None</td>\n",
       "      <td>No</td>\n",
       "      <td>No</td>\n",
       "      <td>No</td>\n",
       "      <td>Yes</td>\n",
       "      <td>Yes</td>\n",
       "      <td>American</td>\n",
       "      <td>Other</td>\n",
       "      <td>NaN</td>\n",
       "    </tr>\n",
       "    <tr>\n",
       "      <th>4</th>\n",
       "      <td>5</td>\n",
       "      <td>Working full time</td>\n",
       "      <td>Never married</td>\n",
       "      <td>0.0</td>\n",
       "      <td>35.0</td>\n",
       "      <td>16.0</td>\n",
       "      <td>NaN</td>\n",
       "      <td>12.0</td>\n",
       "      <td>NaN</td>\n",
       "      <td>Bachelor</td>\n",
       "      <td>...</td>\n",
       "      <td>35 to 44</td>\n",
       "      <td>None</td>\n",
       "      <td>No</td>\n",
       "      <td>No</td>\n",
       "      <td>No</td>\n",
       "      <td>No</td>\n",
       "      <td>No</td>\n",
       "      <td>American</td>\n",
       "      <td>American</td>\n",
       "      <td>Korean</td>\n",
       "    </tr>\n",
       "  </tbody>\n",
       "</table>\n",
       "<p>5 rows × 46 columns</p>\n",
       "</div>"
      ],
      "text/plain": [
       "   id            wrkstat        marital  childs   age  educ  paeduc  maeduc  \\\n",
       "0   1  Working full time       Divorced     2.0  60.0  12.0    12.0    12.0   \n",
       "1   2  Working part-time  Never married     0.0  27.0  17.0    20.0     NaN   \n",
       "2   3  Working full time        Married     2.0  36.0  12.0    12.0    12.0   \n",
       "3   4  Working full time  Never married     0.0  21.0  13.0     NaN    12.0   \n",
       "4   5  Working full time  Never married     0.0  35.0  16.0     NaN    12.0   \n",
       "\n",
       "   speduc          degree    ...           agecat childcat news1 news2  news3  \\\n",
       "0     NaN     High school    ...         55 to 64      1-2    No    No     No   \n",
       "1     NaN  Junior college    ...         25 to 34     None    No    No    Yes   \n",
       "2    16.0     High school    ...         35 to 44      1-2    No    No     No   \n",
       "3     NaN     High school    ...     Less than 25     None    No    No     No   \n",
       "4     NaN        Bachelor    ...         35 to 44     None    No    No     No   \n",
       "\n",
       "  news4 news5      car1      car2      car3  \n",
       "0    No    No  American  Japanese  Japanese  \n",
       "1    No    No  American    German  Japanese  \n",
       "2   Yes   Yes  American  American       NaN  \n",
       "3   Yes   Yes  American     Other       NaN  \n",
       "4    No    No  American  American    Korean  \n",
       "\n",
       "[5 rows x 46 columns]"
      ]
     },
     "execution_count": 59,
     "metadata": {},
     "output_type": "execute_result"
    }
   ],
   "source": [
    "survey.head(5)"
   ]
  },
  {
   "cell_type": "code",
   "execution_count": 63,
   "metadata": {},
   "outputs": [],
   "source": [
    "rel = pd.crosstab(survey.marital, survey.wrkstat, margins = True)"
   ]
  },
  {
   "cell_type": "code",
   "execution_count": 64,
   "metadata": {},
   "outputs": [
    {
     "data": {
      "text/html": [
       "<div>\n",
       "<style scoped>\n",
       "    .dataframe tbody tr th:only-of-type {\n",
       "        vertical-align: middle;\n",
       "    }\n",
       "\n",
       "    .dataframe tbody tr th {\n",
       "        vertical-align: top;\n",
       "    }\n",
       "\n",
       "    .dataframe thead th {\n",
       "        text-align: right;\n",
       "    }\n",
       "</style>\n",
       "<table border=\"1\" class=\"dataframe\">\n",
       "  <thead>\n",
       "    <tr style=\"text-align: right;\">\n",
       "      <th>wrkstat</th>\n",
       "      <th>Keeping house</th>\n",
       "      <th>Other</th>\n",
       "      <th>Retired</th>\n",
       "      <th>School</th>\n",
       "      <th>Temporarily not working</th>\n",
       "      <th>Unemployed, laid off</th>\n",
       "      <th>Working full time</th>\n",
       "      <th>Working part-time</th>\n",
       "      <th>All</th>\n",
       "    </tr>\n",
       "    <tr>\n",
       "      <th>marital</th>\n",
       "      <th></th>\n",
       "      <th></th>\n",
       "      <th></th>\n",
       "      <th></th>\n",
       "      <th></th>\n",
       "      <th></th>\n",
       "      <th></th>\n",
       "      <th></th>\n",
       "      <th></th>\n",
       "    </tr>\n",
       "  </thead>\n",
       "  <tbody>\n",
       "    <tr>\n",
       "      <th>Divorced</th>\n",
       "      <td>25</td>\n",
       "      <td>12</td>\n",
       "      <td>53</td>\n",
       "      <td>7</td>\n",
       "      <td>9</td>\n",
       "      <td>10</td>\n",
       "      <td>295</td>\n",
       "      <td>35</td>\n",
       "      <td>446</td>\n",
       "    </tr>\n",
       "    <tr>\n",
       "      <th>Married</th>\n",
       "      <td>200</td>\n",
       "      <td>16</td>\n",
       "      <td>168</td>\n",
       "      <td>9</td>\n",
       "      <td>23</td>\n",
       "      <td>13</td>\n",
       "      <td>778</td>\n",
       "      <td>138</td>\n",
       "      <td>1345</td>\n",
       "    </tr>\n",
       "    <tr>\n",
       "      <th>Never married</th>\n",
       "      <td>35</td>\n",
       "      <td>14</td>\n",
       "      <td>17</td>\n",
       "      <td>60</td>\n",
       "      <td>11</td>\n",
       "      <td>32</td>\n",
       "      <td>392</td>\n",
       "      <td>102</td>\n",
       "      <td>663</td>\n",
       "    </tr>\n",
       "    <tr>\n",
       "      <th>Separated</th>\n",
       "      <td>13</td>\n",
       "      <td>4</td>\n",
       "      <td>6</td>\n",
       "      <td>2</td>\n",
       "      <td>1</td>\n",
       "      <td>0</td>\n",
       "      <td>58</td>\n",
       "      <td>9</td>\n",
       "      <td>93</td>\n",
       "    </tr>\n",
       "    <tr>\n",
       "      <th>Widowed</th>\n",
       "      <td>55</td>\n",
       "      <td>8</td>\n",
       "      <td>150</td>\n",
       "      <td>1</td>\n",
       "      <td>2</td>\n",
       "      <td>3</td>\n",
       "      <td>44</td>\n",
       "      <td>20</td>\n",
       "      <td>283</td>\n",
       "    </tr>\n",
       "    <tr>\n",
       "      <th>All</th>\n",
       "      <td>328</td>\n",
       "      <td>54</td>\n",
       "      <td>394</td>\n",
       "      <td>79</td>\n",
       "      <td>46</td>\n",
       "      <td>58</td>\n",
       "      <td>1567</td>\n",
       "      <td>304</td>\n",
       "      <td>2830</td>\n",
       "    </tr>\n",
       "  </tbody>\n",
       "</table>\n",
       "</div>"
      ],
      "text/plain": [
       "wrkstat        Keeping house  Other  Retired  School  Temporarily not working  \\\n",
       "marital                                                                         \n",
       "Divorced                  25     12       53       7                        9   \n",
       "Married                  200     16      168       9                       23   \n",
       "Never married             35     14       17      60                       11   \n",
       "Separated                 13      4        6       2                        1   \n",
       "Widowed                   55      8      150       1                        2   \n",
       "All                      328     54      394      79                       46   \n",
       "\n",
       "wrkstat        Unemployed, laid off  Working full time  Working part-time  \\\n",
       "marital                                                                     \n",
       "Divorced                         10                295                 35   \n",
       "Married                          13                778                138   \n",
       "Never married                    32                392                102   \n",
       "Separated                         0                 58                  9   \n",
       "Widowed                           3                 44                 20   \n",
       "All                              58               1567                304   \n",
       "\n",
       "wrkstat         All  \n",
       "marital              \n",
       "Divorced        446  \n",
       "Married        1345  \n",
       "Never married   663  \n",
       "Separated        93  \n",
       "Widowed         283  \n",
       "All            2830  "
      ]
     },
     "execution_count": 64,
     "metadata": {},
     "output_type": "execute_result"
    }
   ],
   "source": [
    "rel"
   ]
  },
  {
   "cell_type": "code",
   "execution_count": 62,
   "metadata": {},
   "outputs": [
    {
     "data": {
      "text/plain": [
       "(729.2421426572284,\n",
       " 1.820339965538765e-127,\n",
       " 40,\n",
       " array([[5.16918728e+01, 8.51024735e+00, 6.20932862e+01, 1.24501767e+01,\n",
       "         7.24946996e+00, 9.14063604e+00, 2.46954770e+02, 4.79095406e+01,\n",
       "         4.46000000e+02],\n",
       "        [1.55886926e+02, 2.56643110e+01, 1.87254417e+02, 3.75459364e+01,\n",
       "         2.18621908e+01, 2.75653710e+01, 7.44740283e+02, 1.44480565e+02,\n",
       "         1.34500000e+03],\n",
       "        [7.68424028e+01, 1.26508834e+01, 9.23045936e+01, 1.85077739e+01,\n",
       "         1.07766784e+01, 1.35879859e+01, 3.67109894e+02, 7.12197880e+01,\n",
       "         6.63000000e+02],\n",
       "        [1.07787986e+01, 1.77455830e+00, 1.29477032e+01, 2.59611307e+00,\n",
       "         1.51166078e+00, 1.90600707e+00, 5.14950530e+01, 9.99010601e+00,\n",
       "         9.30000000e+01],\n",
       "        [3.28000000e+01, 5.40000000e+00, 3.94000000e+01, 7.90000000e+00,\n",
       "         4.60000000e+00, 5.80000000e+00, 1.56700000e+02, 3.04000000e+01,\n",
       "         2.83000000e+02],\n",
       "        [3.28000000e+02, 5.40000000e+01, 3.94000000e+02, 7.90000000e+01,\n",
       "         4.60000000e+01, 5.80000000e+01, 1.56700000e+03, 3.04000000e+02,\n",
       "         2.83000000e+03]]))"
      ]
     },
     "execution_count": 62,
     "metadata": {},
     "output_type": "execute_result"
    }
   ],
   "source": [
    "stats.chi2_contingency(observed=rel)"
   ]
  },
  {
   "cell_type": "markdown",
   "metadata": {},
   "source": [
    "Conclusion: a. Since P-value < Significance value(5%) so reject the Null.\n",
    "Therefore, relationship exist between Labrour Work force and Maritial Status."
   ]
  },
  {
   "cell_type": "code",
   "execution_count": 65,
   "metadata": {},
   "outputs": [],
   "source": [
    "control = pd.crosstab(survey.marital, survey.educ, margins = True)"
   ]
  },
  {
   "cell_type": "code",
   "execution_count": 66,
   "metadata": {},
   "outputs": [
    {
     "data": {
      "text/html": [
       "<div>\n",
       "<style scoped>\n",
       "    .dataframe tbody tr th:only-of-type {\n",
       "        vertical-align: middle;\n",
       "    }\n",
       "\n",
       "    .dataframe tbody tr th {\n",
       "        vertical-align: top;\n",
       "    }\n",
       "\n",
       "    .dataframe thead th {\n",
       "        text-align: right;\n",
       "    }\n",
       "</style>\n",
       "<table border=\"1\" class=\"dataframe\">\n",
       "  <thead>\n",
       "    <tr style=\"text-align: right;\">\n",
       "      <th>educ</th>\n",
       "      <th>0.0</th>\n",
       "      <th>2.0</th>\n",
       "      <th>3.0</th>\n",
       "      <th>4.0</th>\n",
       "      <th>5.0</th>\n",
       "      <th>6.0</th>\n",
       "      <th>7.0</th>\n",
       "      <th>8.0</th>\n",
       "      <th>9.0</th>\n",
       "      <th>10.0</th>\n",
       "      <th>...</th>\n",
       "      <th>12.0</th>\n",
       "      <th>13.0</th>\n",
       "      <th>14.0</th>\n",
       "      <th>15.0</th>\n",
       "      <th>16.0</th>\n",
       "      <th>17.0</th>\n",
       "      <th>18.0</th>\n",
       "      <th>19.0</th>\n",
       "      <th>20.0</th>\n",
       "      <th>All</th>\n",
       "    </tr>\n",
       "    <tr>\n",
       "      <th>marital</th>\n",
       "      <th></th>\n",
       "      <th></th>\n",
       "      <th></th>\n",
       "      <th></th>\n",
       "      <th></th>\n",
       "      <th></th>\n",
       "      <th></th>\n",
       "      <th></th>\n",
       "      <th></th>\n",
       "      <th></th>\n",
       "      <th></th>\n",
       "      <th></th>\n",
       "      <th></th>\n",
       "      <th></th>\n",
       "      <th></th>\n",
       "      <th></th>\n",
       "      <th></th>\n",
       "      <th></th>\n",
       "      <th></th>\n",
       "      <th></th>\n",
       "      <th></th>\n",
       "    </tr>\n",
       "  </thead>\n",
       "  <tbody>\n",
       "    <tr>\n",
       "      <th>Divorced</th>\n",
       "      <td>0</td>\n",
       "      <td>0</td>\n",
       "      <td>2</td>\n",
       "      <td>2</td>\n",
       "      <td>2</td>\n",
       "      <td>2</td>\n",
       "      <td>6</td>\n",
       "      <td>9</td>\n",
       "      <td>18</td>\n",
       "      <td>26</td>\n",
       "      <td>...</td>\n",
       "      <td>125</td>\n",
       "      <td>48</td>\n",
       "      <td>62</td>\n",
       "      <td>26</td>\n",
       "      <td>47</td>\n",
       "      <td>13</td>\n",
       "      <td>12</td>\n",
       "      <td>9</td>\n",
       "      <td>10</td>\n",
       "      <td>444</td>\n",
       "    </tr>\n",
       "    <tr>\n",
       "      <th>Married</th>\n",
       "      <td>1</td>\n",
       "      <td>1</td>\n",
       "      <td>3</td>\n",
       "      <td>2</td>\n",
       "      <td>3</td>\n",
       "      <td>12</td>\n",
       "      <td>11</td>\n",
       "      <td>36</td>\n",
       "      <td>28</td>\n",
       "      <td>48</td>\n",
       "      <td>...</td>\n",
       "      <td>415</td>\n",
       "      <td>118</td>\n",
       "      <td>168</td>\n",
       "      <td>56</td>\n",
       "      <td>214</td>\n",
       "      <td>46</td>\n",
       "      <td>66</td>\n",
       "      <td>21</td>\n",
       "      <td>40</td>\n",
       "      <td>1339</td>\n",
       "    </tr>\n",
       "    <tr>\n",
       "      <th>Never married</th>\n",
       "      <td>1</td>\n",
       "      <td>1</td>\n",
       "      <td>2</td>\n",
       "      <td>1</td>\n",
       "      <td>0</td>\n",
       "      <td>2</td>\n",
       "      <td>0</td>\n",
       "      <td>8</td>\n",
       "      <td>9</td>\n",
       "      <td>21</td>\n",
       "      <td>...</td>\n",
       "      <td>180</td>\n",
       "      <td>71</td>\n",
       "      <td>89</td>\n",
       "      <td>48</td>\n",
       "      <td>116</td>\n",
       "      <td>24</td>\n",
       "      <td>24</td>\n",
       "      <td>8</td>\n",
       "      <td>15</td>\n",
       "      <td>660</td>\n",
       "    </tr>\n",
       "    <tr>\n",
       "      <th>Separated</th>\n",
       "      <td>0</td>\n",
       "      <td>0</td>\n",
       "      <td>1</td>\n",
       "      <td>0</td>\n",
       "      <td>0</td>\n",
       "      <td>1</td>\n",
       "      <td>0</td>\n",
       "      <td>2</td>\n",
       "      <td>4</td>\n",
       "      <td>3</td>\n",
       "      <td>...</td>\n",
       "      <td>33</td>\n",
       "      <td>16</td>\n",
       "      <td>9</td>\n",
       "      <td>3</td>\n",
       "      <td>10</td>\n",
       "      <td>2</td>\n",
       "      <td>1</td>\n",
       "      <td>1</td>\n",
       "      <td>1</td>\n",
       "      <td>93</td>\n",
       "    </tr>\n",
       "    <tr>\n",
       "      <th>Widowed</th>\n",
       "      <td>0</td>\n",
       "      <td>3</td>\n",
       "      <td>2</td>\n",
       "      <td>4</td>\n",
       "      <td>3</td>\n",
       "      <td>6</td>\n",
       "      <td>4</td>\n",
       "      <td>27</td>\n",
       "      <td>16</td>\n",
       "      <td>15</td>\n",
       "      <td>...</td>\n",
       "      <td>98</td>\n",
       "      <td>17</td>\n",
       "      <td>21</td>\n",
       "      <td>13</td>\n",
       "      <td>25</td>\n",
       "      <td>1</td>\n",
       "      <td>6</td>\n",
       "      <td>2</td>\n",
       "      <td>3</td>\n",
       "      <td>283</td>\n",
       "    </tr>\n",
       "    <tr>\n",
       "      <th>All</th>\n",
       "      <td>2</td>\n",
       "      <td>5</td>\n",
       "      <td>10</td>\n",
       "      <td>9</td>\n",
       "      <td>8</td>\n",
       "      <td>23</td>\n",
       "      <td>21</td>\n",
       "      <td>82</td>\n",
       "      <td>75</td>\n",
       "      <td>113</td>\n",
       "      <td>...</td>\n",
       "      <td>851</td>\n",
       "      <td>270</td>\n",
       "      <td>349</td>\n",
       "      <td>146</td>\n",
       "      <td>412</td>\n",
       "      <td>86</td>\n",
       "      <td>109</td>\n",
       "      <td>41</td>\n",
       "      <td>69</td>\n",
       "      <td>2819</td>\n",
       "    </tr>\n",
       "  </tbody>\n",
       "</table>\n",
       "<p>6 rows × 21 columns</p>\n",
       "</div>"
      ],
      "text/plain": [
       "educ           0.0  2.0  3.0  4.0  5.0  6.0  7.0  8.0  9.0  10.0  ...   12.0  \\\n",
       "marital                                                           ...          \n",
       "Divorced         0    0    2    2    2    2    6    9   18    26  ...    125   \n",
       "Married          1    1    3    2    3   12   11   36   28    48  ...    415   \n",
       "Never married    1    1    2    1    0    2    0    8    9    21  ...    180   \n",
       "Separated        0    0    1    0    0    1    0    2    4     3  ...     33   \n",
       "Widowed          0    3    2    4    3    6    4   27   16    15  ...     98   \n",
       "All              2    5   10    9    8   23   21   82   75   113  ...    851   \n",
       "\n",
       "educ           13.0  14.0  15.0  16.0  17.0  18.0  19.0  20.0   All  \n",
       "marital                                                              \n",
       "Divorced         48    62    26    47    13    12     9    10   444  \n",
       "Married         118   168    56   214    46    66    21    40  1339  \n",
       "Never married    71    89    48   116    24    24     8    15   660  \n",
       "Separated        16     9     3    10     2     1     1     1    93  \n",
       "Widowed          17    21    13    25     1     6     2     3   283  \n",
       "All             270   349   146   412    86   109    41    69  2819  \n",
       "\n",
       "[6 rows x 21 columns]"
      ]
     },
     "execution_count": 66,
     "metadata": {},
     "output_type": "execute_result"
    }
   ],
   "source": [
    "control"
   ]
  },
  {
   "cell_type": "code",
   "execution_count": 67,
   "metadata": {},
   "outputs": [
    {
     "data": {
      "text/plain": [
       "(221.1089644164776,\n",
       " 3.863342448812233e-11,\n",
       " 100,\n",
       " array([[3.15005321e-01, 7.87513303e-01, 1.57502661e+00, 1.41752394e+00,\n",
       "         1.26002128e+00, 3.62256119e+00, 3.30755587e+00, 1.29152182e+01,\n",
       "         1.18126995e+01, 1.77978006e+01, 2.17353672e+01, 1.34034764e+02,\n",
       "         4.25257183e+01, 5.49684285e+01, 2.29953884e+01, 6.48910961e+01,\n",
       "         1.35452288e+01, 1.71677900e+01, 6.45760908e+00, 1.08676836e+01,\n",
       "         4.44000000e+02],\n",
       "        [9.49982263e-01, 2.37495566e+00, 4.74991132e+00, 4.27492018e+00,\n",
       "         3.79992905e+00, 1.09247960e+01, 9.97481376e+00, 3.89492728e+01,\n",
       "         3.56243349e+01, 5.36739979e+01, 6.55487762e+01, 4.04217453e+02,\n",
       "         1.28247606e+02, 1.65771905e+02, 6.93487052e+01, 1.95696346e+02,\n",
       "         4.08492373e+01, 5.17740333e+01, 1.94746364e+01, 3.27743881e+01,\n",
       "         1.33900000e+03],\n",
       "        [4.68251153e-01, 1.17062788e+00, 2.34125576e+00, 2.10713019e+00,\n",
       "         1.87300461e+00, 5.38488826e+00, 4.91663711e+00, 1.91982973e+01,\n",
       "         1.75594182e+01, 2.64561901e+01, 3.23093295e+01, 1.99240866e+02,\n",
       "         6.32139056e+01, 8.17098262e+01, 3.41823342e+01, 9.64597375e+01,\n",
       "         2.01347996e+01, 2.55196878e+01, 9.59914863e+00, 1.61546648e+01,\n",
       "         6.60000000e+02],\n",
       "        [6.59808443e-02, 1.64952111e-01, 3.29904221e-01, 2.96913799e-01,\n",
       "         2.63923377e-01, 7.58779709e-01, 6.92798865e-01, 2.70521462e+00,\n",
       "         2.47428166e+00, 3.72791770e+00, 4.55267825e+00, 2.80748492e+01,\n",
       "         8.90741398e+00, 1.15136573e+01, 4.81660163e+00, 1.35920539e+01,\n",
       "         2.83717630e+00, 3.59595601e+00, 1.35260731e+00, 2.27633913e+00,\n",
       "         9.30000000e+01],\n",
       "        [2.00780419e-01, 5.01951046e-01, 1.00390209e+00, 9.03511884e-01,\n",
       "         8.03121674e-01, 2.30897481e+00, 2.10819440e+00, 8.23199716e+00,\n",
       "         7.52926570e+00, 1.13440937e+01, 1.38538489e+01, 8.54320681e+01,\n",
       "         2.71053565e+01, 3.50361830e+01, 1.46569706e+01, 4.13607662e+01,\n",
       "         8.63355800e+00, 1.09425328e+01, 4.11599858e+00, 6.92692444e+00,\n",
       "         2.83000000e+02],\n",
       "        [2.00000000e+00, 5.00000000e+00, 1.00000000e+01, 9.00000000e+00,\n",
       "         8.00000000e+00, 2.30000000e+01, 2.10000000e+01, 8.20000000e+01,\n",
       "         7.50000000e+01, 1.13000000e+02, 1.38000000e+02, 8.51000000e+02,\n",
       "         2.70000000e+02, 3.49000000e+02, 1.46000000e+02, 4.12000000e+02,\n",
       "         8.60000000e+01, 1.09000000e+02, 4.10000000e+01, 6.90000000e+01,\n",
       "         2.81900000e+03]]))"
      ]
     },
     "execution_count": 67,
     "metadata": {},
     "output_type": "execute_result"
    }
   ],
   "source": [
    "stats.chi2_contingency(observed = control)"
   ]
  },
  {
   "cell_type": "markdown",
   "metadata": {},
   "source": [
    "Conclusion: b. Since P-value < Significance value(5%) so reject the Null.\n",
    "Therefore, Educational qualification is controlling Maritial Status."
   ]
  },
  {
   "cell_type": "code",
   "execution_count": 74,
   "metadata": {},
   "outputs": [],
   "source": [
    "earnings = pd.crosstab(survey.income,survey.happy, margins = True)"
   ]
  },
  {
   "cell_type": "code",
   "execution_count": 75,
   "metadata": {},
   "outputs": [
    {
     "data": {
      "text/plain": [
       "(178.9505306121643,\n",
       " 7.234749067043263e-21,\n",
       " 36,\n",
       " array([[   3.89520355,   18.16041919,    9.94437727,   32.        ],\n",
       "        [  23.12777106,  107.82748892,   59.04474002,  190.        ],\n",
       "        [  21.66706973,  101.01733172,   55.31559855,  178.        ],\n",
       "        [  29.82265216,  139.04070939,   76.13663845,  245.        ],\n",
       "        [ 191.35187424,  892.1305925 ,  488.51753325, 1572.        ],\n",
       "        [   2.92140266,   13.62031439,    7.45828295,   24.        ],\n",
       "        [   3.89520355,   18.16041919,    9.94437727,   32.        ],\n",
       "        [   4.26037888,   19.86295848,   10.87666264,   35.        ],\n",
       "        [   4.01692866,   18.72793229,   10.25513906,   33.        ],\n",
       "        [   5.72108021,   26.67311568,   14.60580411,   47.        ],\n",
       "        [   7.06005643,   32.91575977,   18.0241838 ,   58.        ],\n",
       "        [   4.26037888,   19.86295848,   10.87666264,   35.        ],\n",
       "        [ 302.        , 1408.        ,  771.        , 2481.        ]]))"
      ]
     },
     "execution_count": 75,
     "metadata": {},
     "output_type": "execute_result"
    }
   ],
   "source": [
    "stats.chi2_contingency(observed = earnings)"
   ]
  },
  {
   "cell_type": "code",
   "execution_count": 76,
   "metadata": {},
   "outputs": [],
   "source": [
    "marital = pd.crosstab(survey.marital,survey.happy, margins =True)"
   ]
  },
  {
   "cell_type": "code",
   "execution_count": 77,
   "metadata": {},
   "outputs": [
    {
     "data": {
      "text/plain": [
       "(260.68943894182826,\n",
       " 7.762777322980048e-47,\n",
       " 15,\n",
       " array([[  53.6969697 ,  248.58538324,  140.71764706,  443.        ],\n",
       "        [ 162.06060606,  750.24527629,  424.69411765, 1337.        ],\n",
       "        [  79.27272727,  366.98609626,  207.74117647,  654.        ],\n",
       "        [  11.15151515,   51.62495544,   29.22352941,   92.        ],\n",
       "        [  33.81818182,  156.55828877,   88.62352941,  279.        ],\n",
       "        [ 340.        , 1574.        ,  891.        , 2805.        ]]))"
      ]
     },
     "execution_count": 77,
     "metadata": {},
     "output_type": "execute_result"
    }
   ],
   "source": [
    "stats.chi2_contingency(observed = marital)"
   ]
  },
  {
   "cell_type": "markdown",
   "metadata": {},
   "source": [
    "Conclusion: c. Since P-value < Significance value(5%) so reject the Null. Stats value of marital is greater than earnings.\n",
    "Therefore, Happiness is more driven by Marital Status than Earnings."
   ]
  }
 ],
 "metadata": {
  "kernelspec": {
   "display_name": "Python 3",
   "language": "python",
   "name": "python3"
  },
  "language_info": {
   "codemirror_mode": {
    "name": "ipython",
    "version": 3
   },
   "file_extension": ".py",
   "mimetype": "text/x-python",
   "name": "python",
   "nbconvert_exporter": "python",
   "pygments_lexer": "ipython3",
   "version": "3.7.0"
  }
 },
 "nbformat": 4,
 "nbformat_minor": 2
}
